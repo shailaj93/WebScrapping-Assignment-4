{
 "cells": [
  {
   "cell_type": "code",
   "execution_count": 99,
   "id": "a75ede2a",
   "metadata": {},
   "outputs": [
    {
     "name": "stdout",
     "output_type": "stream",
     "text": [
      "Requirement already satisfied: selenium in c:\\users\\ayushi\\anaconda3\\lib\\site-packages (4.1.0)\n",
      "Requirement already satisfied: trio-websocket~=0.9 in c:\\users\\ayushi\\anaconda3\\lib\\site-packages (from selenium) (0.9.2)\n",
      "Requirement already satisfied: trio~=0.17 in c:\\users\\ayushi\\anaconda3\\lib\\site-packages (from selenium) (0.19.0)\n",
      "Requirement already satisfied: urllib3[secure]~=1.26 in c:\\users\\ayushi\\anaconda3\\lib\\site-packages (from selenium) (1.26.4)\n",
      "Requirement already satisfied: cffi>=1.14 in c:\\users\\ayushi\\anaconda3\\lib\\site-packages (from trio~=0.17->selenium) (1.14.5)\n",
      "Requirement already satisfied: outcome in c:\\users\\ayushi\\anaconda3\\lib\\site-packages (from trio~=0.17->selenium) (1.1.0)\n",
      "Requirement already satisfied: attrs>=19.2.0 in c:\\users\\ayushi\\anaconda3\\lib\\site-packages (from trio~=0.17->selenium) (20.3.0)\n",
      "Requirement already satisfied: idna in c:\\users\\ayushi\\anaconda3\\lib\\site-packages (from trio~=0.17->selenium) (2.10)\n",
      "Requirement already satisfied: sniffio in c:\\users\\ayushi\\anaconda3\\lib\\site-packages (from trio~=0.17->selenium) (1.2.0)\n",
      "Requirement already satisfied: sortedcontainers in c:\\users\\ayushi\\anaconda3\\lib\\site-packages (from trio~=0.17->selenium) (2.3.0)\n",
      "Requirement already satisfied: async-generator>=1.9 in c:\\users\\ayushi\\anaconda3\\lib\\site-packages (from trio~=0.17->selenium) (1.10)\n",
      "Requirement already satisfied: pycparser in c:\\users\\ayushi\\anaconda3\\lib\\site-packages (from cffi>=1.14->trio~=0.17->selenium) (2.20)\n",
      "Requirement already satisfied: wsproto>=0.14 in c:\\users\\ayushi\\anaconda3\\lib\\site-packages (from trio-websocket~=0.9->selenium) (1.0.0)\n",
      "Requirement already satisfied: pyOpenSSL>=0.14 in c:\\users\\ayushi\\anaconda3\\lib\\site-packages (from urllib3[secure]~=1.26->selenium) (20.0.1)\n",
      "Requirement already satisfied: cryptography>=1.3.4 in c:\\users\\ayushi\\anaconda3\\lib\\site-packages (from urllib3[secure]~=1.26->selenium) (3.4.7)\n",
      "Requirement already satisfied: certifi in c:\\users\\ayushi\\anaconda3\\lib\\site-packages (from urllib3[secure]~=1.26->selenium) (2020.12.5)\n",
      "Requirement already satisfied: six>=1.5.2 in c:\\users\\ayushi\\anaconda3\\lib\\site-packages (from pyOpenSSL>=0.14->urllib3[secure]~=1.26->selenium) (1.15.0)\n",
      "Requirement already satisfied: h11<1,>=0.9.0 in c:\\users\\ayushi\\anaconda3\\lib\\site-packages (from wsproto>=0.14->trio-websocket~=0.9->selenium) (0.12.0)\n"
     ]
    }
   ],
   "source": [
    "!pip install selenium"
   ]
  },
  {
   "cell_type": "code",
   "execution_count": 100,
   "id": "373b6e32",
   "metadata": {},
   "outputs": [],
   "source": [
    "import selenium\n",
    "from selenium import webdriver\n",
    "import pandas as pd\n",
    "import warnings \n",
    "warnings.filterwarnings('ignore')"
   ]
  },
  {
   "cell_type": "code",
   "execution_count": 101,
   "id": "433feb5b",
   "metadata": {},
   "outputs": [],
   "source": [
    "driver=webdriver.Chrome(r'C:\\Users\\AYUSHI\\Downloads\\chromedriver_win32\\chromedriver.exe')"
   ]
  },
  {
   "cell_type": "code",
   "execution_count": 102,
   "id": "1c0da8f1",
   "metadata": {},
   "outputs": [],
   "source": [
    "url='https://www.bcci.tv'\n",
    "driver.get(url)"
   ]
  },
  {
   "cell_type": "code",
   "execution_count": 103,
   "id": "32394665",
   "metadata": {},
   "outputs": [
    {
     "data": {
      "text/plain": [
       "<selenium.webdriver.remote.webelement.WebElement (session=\"62f9dc21ed8eadeb01ca01391f3044d7\", element=\"8c20fbc3-3a62-4a77-a6eb-550bab709f64\")>"
      ]
     },
     "execution_count": 103,
     "metadata": {},
     "output_type": "execute_result"
    }
   ],
   "source": [
    "search_btn=driver.find_element_by_xpath('/html/body/nav/div/div[2]/ul[1]/li[2]/a')\n",
    "search_btn"
   ]
  },
  {
   "cell_type": "code",
   "execution_count": 104,
   "id": "21b111a0",
   "metadata": {},
   "outputs": [],
   "source": [
    "search_btn.click()"
   ]
  },
  {
   "cell_type": "code",
   "execution_count": 111,
   "id": "5df94754",
   "metadata": {},
   "outputs": [
    {
     "data": {
      "text/plain": [
       "2"
      ]
     },
     "execution_count": 111,
     "metadata": {},
     "output_type": "execute_result"
    }
   ],
   "source": [
    "Match=driver.find_elements_by_xpath('//span[@class=\"matchOrderText ng-binding ng-scope\"]')\n",
    "len(Match)"
   ]
  },
  {
   "cell_type": "code",
   "execution_count": 114,
   "id": "5c0dc818",
   "metadata": {},
   "outputs": [
    {
     "data": {
      "text/plain": [
       "['1st Test -', '2nd Test -']"
      ]
     },
     "execution_count": 114,
     "metadata": {},
     "output_type": "execute_result"
    }
   ],
   "source": [
    "Match_title=[]\n",
    "for i in Match:\n",
    "    Match_title.append(i.text);\n",
    "Match_title"
   ]
  },
  {
   "cell_type": "code",
   "execution_count": 115,
   "id": "84819ece",
   "metadata": {},
   "outputs": [
    {
     "data": {
      "text/plain": [
       "['1st Test -', 'NA', 'NA', 'NA', '2nd Test -', 'NA', 'NA']"
      ]
     },
     "execution_count": 115,
     "metadata": {},
     "output_type": "execute_result"
    }
   ],
   "source": [
    "Match_title1=Match_title\n",
    "Match_title1.insert(1,\"NA\")\n",
    "Match_title1.insert(2,\"NA\")\n",
    "Match_title1.insert(3,\"NA\")\n",
    "Match_title1.insert(5,\"NA\")\n",
    "Match_title1.insert(6,\"NA\")\n",
    "Match_title1"
   ]
  },
  {
   "cell_type": "code",
   "execution_count": 116,
   "id": "aa4e26d7",
   "metadata": {},
   "outputs": [
    {
     "data": {
      "text/plain": [
       "7"
      ]
     },
     "execution_count": 116,
     "metadata": {},
     "output_type": "execute_result"
    }
   ],
   "source": [
    "Series_1=driver.find_elements_by_xpath('//div[@class=\"fixture-tab-inner row\"]/div/div/div[1]/h5[2]/span')\n",
    "len(Series_1)"
   ]
  },
  {
   "cell_type": "code",
   "execution_count": 117,
   "id": "64b9f92f",
   "metadata": {},
   "outputs": [
    {
     "data": {
      "text/plain": [
       "['SRI LANKA TOUR OF INDIA TEST SERIES 2022',\n",
       " 'ICC WOMENS WORLD CUP 2022',\n",
       " 'ICC WOMENS WORLD CUP 2022',\n",
       " 'ICC WOMENS WORLD CUP 2022',\n",
       " 'SRI LANKA TOUR OF INDIA TEST SERIES 2022',\n",
       " 'ICC WOMENS WORLD CUP 2022',\n",
       " 'ICC WOMENS WORLD CUP 2022']"
      ]
     },
     "execution_count": 117,
     "metadata": {},
     "output_type": "execute_result"
    }
   ],
   "source": [
    "Series=[]\n",
    "for j in Series_1:\n",
    "    Series.append(j.text)\n",
    "Series"
   ]
  },
  {
   "cell_type": "code",
   "execution_count": 118,
   "id": "3f49d323",
   "metadata": {},
   "outputs": [
    {
     "data": {
      "text/plain": [
       "7"
      ]
     },
     "execution_count": 118,
     "metadata": {},
     "output_type": "execute_result"
    }
   ],
   "source": [
    "place=driver.find_elements_by_xpath('//span[@class=\"ng-binding ng-scope\"]')\n",
    "len(place)"
   ]
  },
  {
   "cell_type": "code",
   "execution_count": 119,
   "id": "eaa10eb6",
   "metadata": {},
   "outputs": [
    {
     "data": {
      "text/plain": [
       "['Punjab Cricket Association IS Bindra Stadium,',\n",
       " 'Bay Oval,',\n",
       " 'Seddon Park,',\n",
       " 'Seddon Park,',\n",
       " 'M Chinnaswamy Stadium,',\n",
       " 'Bay Oval,',\n",
       " 'Eden Park,']"
      ]
     },
     "execution_count": 119,
     "metadata": {},
     "output_type": "execute_result"
    }
   ],
   "source": [
    "Place=[]\n",
    "for k in place:\n",
    "    Place.append(k.text)\n",
    "Place"
   ]
  },
  {
   "cell_type": "code",
   "execution_count": 120,
   "id": "cc1e145a",
   "metadata": {},
   "outputs": [
    {
     "data": {
      "text/plain": [
       "7"
      ]
     },
     "execution_count": 120,
     "metadata": {},
     "output_type": "execute_result"
    }
   ],
   "source": [
    "date=driver.find_elements_by_xpath('//div[@class=\"fixture-tab-inner row\"]/div/div/div[1]/div/div[1]/h5')\n",
    "len(date)"
   ]
  },
  {
   "cell_type": "code",
   "execution_count": 121,
   "id": "48dbe897",
   "metadata": {},
   "outputs": [
    {
     "data": {
      "text/plain": [
       "['4 MAR 2022',\n",
       " '6 MAR 2022',\n",
       " '10 MAR 2022',\n",
       " '12 MAR 2022',\n",
       " '12 MAR 2022',\n",
       " '16 MAR 2022',\n",
       " '19 MAR 2022']"
      ]
     },
     "execution_count": 121,
     "metadata": {},
     "output_type": "execute_result"
    }
   ],
   "source": [
    "Date=[]\n",
    "for k in date:\n",
    "    Date.append(k.text)\n",
    "Date"
   ]
  },
  {
   "cell_type": "code",
   "execution_count": 122,
   "id": "8a4446ff",
   "metadata": {},
   "outputs": [
    {
     "data": {
      "text/plain": [
       "7"
      ]
     },
     "execution_count": 122,
     "metadata": {},
     "output_type": "execute_result"
    }
   ],
   "source": [
    "time=driver.find_elements_by_xpath('//div[@class=\"fixture-tab-inner row\"]/div/div/div[1]/div/div[2]/h5')\n",
    "len(time)"
   ]
  },
  {
   "cell_type": "code",
   "execution_count": 123,
   "id": "d23634a3",
   "metadata": {},
   "outputs": [
    {
     "data": {
      "text/plain": [
       "['9:30 AM IST',\n",
       " '6:30 AM IST',\n",
       " '6:30 AM IST',\n",
       " '6:30 AM IST',\n",
       " '2:30 PM IST',\n",
       " '6:30 AM IST',\n",
       " '6:30 AM IST']"
      ]
     },
     "execution_count": 123,
     "metadata": {},
     "output_type": "execute_result"
    }
   ],
   "source": [
    "Time=[]\n",
    "for k in time:\n",
    "    Time.append(k.text)\n",
    "Time"
   ]
  },
  {
   "cell_type": "code",
   "execution_count": 124,
   "id": "82b397cf",
   "metadata": {},
   "outputs": [
    {
     "data": {
      "text/html": [
       "<div>\n",
       "<style scoped>\n",
       "    .dataframe tbody tr th:only-of-type {\n",
       "        vertical-align: middle;\n",
       "    }\n",
       "\n",
       "    .dataframe tbody tr th {\n",
       "        vertical-align: top;\n",
       "    }\n",
       "\n",
       "    .dataframe thead th {\n",
       "        text-align: right;\n",
       "    }\n",
       "</style>\n",
       "<table border=\"1\" class=\"dataframe\">\n",
       "  <thead>\n",
       "    <tr style=\"text-align: right;\">\n",
       "      <th></th>\n",
       "      <th>Match_title</th>\n",
       "      <th>Series</th>\n",
       "      <th>Place</th>\n",
       "      <th>Date</th>\n",
       "      <th>Time</th>\n",
       "    </tr>\n",
       "  </thead>\n",
       "  <tbody>\n",
       "    <tr>\n",
       "      <th>0</th>\n",
       "      <td>1st Test -</td>\n",
       "      <td>SRI LANKA TOUR OF INDIA TEST SERIES 2022</td>\n",
       "      <td>Punjab Cricket Association IS Bindra Stadium,</td>\n",
       "      <td>4 MAR 2022</td>\n",
       "      <td>9:30 AM IST</td>\n",
       "    </tr>\n",
       "    <tr>\n",
       "      <th>1</th>\n",
       "      <td>NA</td>\n",
       "      <td>ICC WOMENS WORLD CUP 2022</td>\n",
       "      <td>Bay Oval,</td>\n",
       "      <td>6 MAR 2022</td>\n",
       "      <td>6:30 AM IST</td>\n",
       "    </tr>\n",
       "    <tr>\n",
       "      <th>2</th>\n",
       "      <td>NA</td>\n",
       "      <td>ICC WOMENS WORLD CUP 2022</td>\n",
       "      <td>Seddon Park,</td>\n",
       "      <td>10 MAR 2022</td>\n",
       "      <td>6:30 AM IST</td>\n",
       "    </tr>\n",
       "    <tr>\n",
       "      <th>3</th>\n",
       "      <td>NA</td>\n",
       "      <td>ICC WOMENS WORLD CUP 2022</td>\n",
       "      <td>Seddon Park,</td>\n",
       "      <td>12 MAR 2022</td>\n",
       "      <td>6:30 AM IST</td>\n",
       "    </tr>\n",
       "    <tr>\n",
       "      <th>4</th>\n",
       "      <td>2nd Test -</td>\n",
       "      <td>SRI LANKA TOUR OF INDIA TEST SERIES 2022</td>\n",
       "      <td>M Chinnaswamy Stadium,</td>\n",
       "      <td>12 MAR 2022</td>\n",
       "      <td>2:30 PM IST</td>\n",
       "    </tr>\n",
       "    <tr>\n",
       "      <th>5</th>\n",
       "      <td>NA</td>\n",
       "      <td>ICC WOMENS WORLD CUP 2022</td>\n",
       "      <td>Bay Oval,</td>\n",
       "      <td>16 MAR 2022</td>\n",
       "      <td>6:30 AM IST</td>\n",
       "    </tr>\n",
       "    <tr>\n",
       "      <th>6</th>\n",
       "      <td>NA</td>\n",
       "      <td>ICC WOMENS WORLD CUP 2022</td>\n",
       "      <td>Eden Park,</td>\n",
       "      <td>19 MAR 2022</td>\n",
       "      <td>6:30 AM IST</td>\n",
       "    </tr>\n",
       "  </tbody>\n",
       "</table>\n",
       "</div>"
      ],
      "text/plain": [
       "  Match_title                                    Series  \\\n",
       "0  1st Test -  SRI LANKA TOUR OF INDIA TEST SERIES 2022   \n",
       "1          NA                 ICC WOMENS WORLD CUP 2022   \n",
       "2          NA                 ICC WOMENS WORLD CUP 2022   \n",
       "3          NA                 ICC WOMENS WORLD CUP 2022   \n",
       "4  2nd Test -  SRI LANKA TOUR OF INDIA TEST SERIES 2022   \n",
       "5          NA                 ICC WOMENS WORLD CUP 2022   \n",
       "6          NA                 ICC WOMENS WORLD CUP 2022   \n",
       "\n",
       "                                          Place          Date         Time  \n",
       "0  Punjab Cricket Association IS Bindra Stadium,   4 MAR 2022  9:30 AM IST  \n",
       "1                                      Bay Oval,   6 MAR 2022  6:30 AM IST  \n",
       "2                                   Seddon Park,  10 MAR 2022  6:30 AM IST  \n",
       "3                                   Seddon Park,  12 MAR 2022  6:30 AM IST  \n",
       "4                         M Chinnaswamy Stadium,  12 MAR 2022  2:30 PM IST  \n",
       "5                                      Bay Oval,  16 MAR 2022  6:30 AM IST  \n",
       "6                                     Eden Park,  19 MAR 2022  6:30 AM IST  "
      ]
     },
     "execution_count": 124,
     "metadata": {},
     "output_type": "execute_result"
    }
   ],
   "source": [
    "bcci=pd.DataFrame()\n",
    "bcci['Match_title']= Match_title\n",
    "bcci['Series']= Series\n",
    "bcci['Place ']= Place\n",
    "bcci['Date']= Date\n",
    "bcci['Time']= Time\n",
    "bcci\n",
    "\n",
    " "
   ]
  },
  {
   "cell_type": "code",
   "execution_count": null,
   "id": "27e7d7b8",
   "metadata": {},
   "outputs": [],
   "source": []
  }
 ],
 "metadata": {
  "kernelspec": {
   "display_name": "Python 3",
   "language": "python",
   "name": "python3"
  },
  "language_info": {
   "codemirror_mode": {
    "name": "ipython",
    "version": 3
   },
   "file_extension": ".py",
   "mimetype": "text/x-python",
   "name": "python",
   "nbconvert_exporter": "python",
   "pygments_lexer": "ipython3",
   "version": "3.8.8"
  }
 },
 "nbformat": 4,
 "nbformat_minor": 5
}
