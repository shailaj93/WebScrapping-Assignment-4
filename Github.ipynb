{
 "cells": [
  {
   "cell_type": "code",
   "execution_count": 1,
   "id": "a75ede2a",
   "metadata": {},
   "outputs": [
    {
     "name": "stdout",
     "output_type": "stream",
     "text": [
      "Requirement already satisfied: selenium in c:\\users\\ayushi\\anaconda3\\lib\\site-packages (4.1.0)\n",
      "Requirement already satisfied: trio~=0.17 in c:\\users\\ayushi\\anaconda3\\lib\\site-packages (from selenium) (0.19.0)\n",
      "Requirement already satisfied: urllib3[secure]~=1.26 in c:\\users\\ayushi\\anaconda3\\lib\\site-packages (from selenium) (1.26.4)\n",
      "Requirement already satisfied: trio-websocket~=0.9 in c:\\users\\ayushi\\anaconda3\\lib\\site-packages (from selenium) (0.9.2)\n",
      "Requirement already satisfied: attrs>=19.2.0 in c:\\users\\ayushi\\anaconda3\\lib\\site-packages (from trio~=0.17->selenium) (20.3.0)\n",
      "Requirement already satisfied: cffi>=1.14 in c:\\users\\ayushi\\anaconda3\\lib\\site-packages (from trio~=0.17->selenium) (1.14.5)\n",
      "Requirement already satisfied: idna in c:\\users\\ayushi\\anaconda3\\lib\\site-packages (from trio~=0.17->selenium) (2.10)\n",
      "Requirement already satisfied: outcome in c:\\users\\ayushi\\anaconda3\\lib\\site-packages (from trio~=0.17->selenium) (1.1.0)\n",
      "Requirement already satisfied: sniffio in c:\\users\\ayushi\\anaconda3\\lib\\site-packages (from trio~=0.17->selenium) (1.2.0)\n",
      "Requirement already satisfied: sortedcontainers in c:\\users\\ayushi\\anaconda3\\lib\\site-packages (from trio~=0.17->selenium) (2.3.0)\n",
      "Requirement already satisfied: async-generator>=1.9 in c:\\users\\ayushi\\anaconda3\\lib\\site-packages (from trio~=0.17->selenium) (1.10)\n",
      "Requirement already satisfied: pycparser in c:\\users\\ayushi\\anaconda3\\lib\\site-packages (from cffi>=1.14->trio~=0.17->selenium) (2.20)\n",
      "Requirement already satisfied: wsproto>=0.14 in c:\\users\\ayushi\\anaconda3\\lib\\site-packages (from trio-websocket~=0.9->selenium) (1.0.0)\n",
      "Requirement already satisfied: pyOpenSSL>=0.14 in c:\\users\\ayushi\\anaconda3\\lib\\site-packages (from urllib3[secure]~=1.26->selenium) (20.0.1)\n",
      "Requirement already satisfied: cryptography>=1.3.4 in c:\\users\\ayushi\\anaconda3\\lib\\site-packages (from urllib3[secure]~=1.26->selenium) (3.4.7)\n",
      "Requirement already satisfied: certifi in c:\\users\\ayushi\\anaconda3\\lib\\site-packages (from urllib3[secure]~=1.26->selenium) (2020.12.5)\n",
      "Requirement already satisfied: six>=1.5.2 in c:\\users\\ayushi\\anaconda3\\lib\\site-packages (from pyOpenSSL>=0.14->urllib3[secure]~=1.26->selenium) (1.15.0)\n",
      "Requirement already satisfied: h11<1,>=0.9.0 in c:\\users\\ayushi\\anaconda3\\lib\\site-packages (from wsproto>=0.14->trio-websocket~=0.9->selenium) (0.12.0)\n"
     ]
    }
   ],
   "source": [
    "!pip install selenium"
   ]
  },
  {
   "cell_type": "code",
   "execution_count": 2,
   "id": "373b6e32",
   "metadata": {},
   "outputs": [],
   "source": [
    "import selenium\n",
    "from selenium import webdriver\n",
    "import pandas as pd\n",
    "import warnings \n",
    "warnings.filterwarnings('ignore')"
   ]
  },
  {
   "cell_type": "code",
   "execution_count": 3,
   "id": "433feb5b",
   "metadata": {},
   "outputs": [],
   "source": [
    "driver=webdriver.Chrome(r'C:\\Users\\AYUSHI\\Downloads\\chromedriver_win32\\chromedriver.exe')"
   ]
  },
  {
   "cell_type": "code",
   "execution_count": 4,
   "id": "1c0da8f1",
   "metadata": {},
   "outputs": [],
   "source": [
    "url='https://github.com'\n",
    "driver.get(url)"
   ]
  },
  {
   "cell_type": "code",
   "execution_count": 7,
   "id": "8d8c7f97",
   "metadata": {},
   "outputs": [
    {
     "data": {
      "text/plain": [
       "['https://github.com/features/packages', 'https://github.com/trending']"
      ]
     },
     "execution_count": 7,
     "metadata": {},
     "output_type": "execute_result"
    }
   ],
   "source": [
    "Url=[]\n",
    "for i in driver.find_elements_by_xpath(\"//ul[@class='list-style-none f5 pb-1']/li[5]/a\"):\n",
    "    Url.append(i.get_attribute(\"href\"))\n",
    "Url"
   ]
  },
  {
   "cell_type": "code",
   "execution_count": 8,
   "id": "5d3bd96c",
   "metadata": {},
   "outputs": [],
   "source": [
    "driver.get(Url[1])"
   ]
  },
  {
   "cell_type": "code",
   "execution_count": 78,
   "id": "aa4e26d7",
   "metadata": {},
   "outputs": [
    {
     "data": {
      "text/plain": [
       "25"
      ]
     },
     "execution_count": 78,
     "metadata": {},
     "output_type": "execute_result"
    }
   ],
   "source": [
    "title=driver.find_elements_by_xpath('//h1[@class=\"h3 lh-condensed\"]/a')\n",
    "len(title)"
   ]
  },
  {
   "cell_type": "code",
   "execution_count": 79,
   "id": "64b9f92f",
   "metadata": {},
   "outputs": [
    {
     "data": {
      "text/plain": [
       "['Anduin2017 / HowToCook',\n",
       " 'veeral-patel / how-to-secure-anything',\n",
       " 'riti2409 / Resources-for-preparation-Of-Placements',\n",
       " 'skywind3000 / preserve-cd',\n",
       " 'nusr / hacker-laws-zh',\n",
       " 'kaist-cp / cs431',\n",
       " 'riti2409 / Operating_System',\n",
       " 'danistefanovic / build-your-own-x',\n",
       " 'ant-design / ant-design-mobile',\n",
       " 'GrowingGit / GitHub-Chinese-Top-Charts',\n",
       " 'apache / superset',\n",
       " 'FederatedAI / FATE',\n",
       " 'YaoApp / yao',\n",
       " 'hasura / graphql-engine',\n",
       " 'zellij-org / zellij',\n",
       " 'facebook / folly',\n",
       " 'evilbuffer / malware-and-exploitdev-resources',\n",
       " 'mastodon / mastodon',\n",
       " 'zadam / trilium',\n",
       " 'jrouwe / JoltPhysics',\n",
       " 'positive-security / find-you',\n",
       " 'influxdata / influxdb',\n",
       " 'midisec / BypassAnti-Virus',\n",
       " 'coding-horror / basic-computer-games',\n",
       " 'labuladong / fucking-algorithm']"
      ]
     },
     "execution_count": 79,
     "metadata": {},
     "output_type": "execute_result"
    }
   ],
   "source": [
    "Repository_title=[]\n",
    "for j in title:\n",
    "    Repository_title.append(j.text)\n",
    "Repository_title"
   ]
  },
  {
   "cell_type": "code",
   "execution_count": 24,
   "id": "3f49d323",
   "metadata": {},
   "outputs": [
    {
     "data": {
      "text/plain": [
       "23"
      ]
     },
     "execution_count": 24,
     "metadata": {},
     "output_type": "execute_result"
    }
   ],
   "source": [
    "desc=driver.find_elements_by_xpath('//p[@class=\"col-9 color-fg-muted my-1 pr-4\"]')\n",
    "len(desc)"
   ]
  },
  {
   "cell_type": "code",
   "execution_count": 71,
   "id": "eaa10eb6",
   "metadata": {
    "scrolled": true
   },
   "outputs": [
    {
     "data": {
      "text/plain": [
       "[\"程序员在家做饭方法指南。Programmer's guide about how to cook at home (Chinese).\",\n",
       " 'How to systematically secure anything: a repository about security engineering',\n",
       " 'Lecture video links for preparation of Placements',\n",
       " 'Game Preservation Project',\n",
       " '对开发人员有用的定律、理论、原则和模式。(Laws, Theories, Principles and Patterns that developers will find useful.)',\n",
       " 'Resources , Notes , Videos of Operating System',\n",
       " 'Build your own (insert technology here)',\n",
       " 'Essential UI blocks for building mobile web apps.',\n",
       " 'GitHub中文排行榜，各语言分离设置「软件 / 资料」榜单，精准定位中文好项目。各取所需，互不干扰，高效学习。',\n",
       " 'Apache Superset is a Data Visualization and Data Exploration Platform',\n",
       " 'An Industrial Grade Federated Learning Framework',\n",
       " 'Yao A low code engine to create web services and dashboard.',\n",
       " 'Blazing fast, instant realtime GraphQL APIs on your DB with fine grained access control, also trigger webhooks on database events.',\n",
       " 'A terminal workspace with batteries included',\n",
       " 'An open-source C++ library developed and used at Facebook.',\n",
       " 'Your self-hosted, globally interconnected microblogging community',\n",
       " 'Build your personal knowledge base with Trilium Notes',\n",
       " 'A multi core friendly rigid body physics and collision detection library suitable for games and VR applications.',\n",
       " \"A stealth AirTag clone that bypasses all of Apple's tracking protection features\",\n",
       " 'Scalable datastore for metrics, events, and real-time analytics',\n",
       " '免杀姿势学习、记录、复现。',\n",
       " 'An updated version of the classic \"Basic Computer Games\" book, with well-written examples in a variety of common programming languages',\n",
       " '刷算法全靠套路，认准 labuladong 就够了！English version supported! Crack LeetCode, not only how, but also why.']"
      ]
     },
     "execution_count": 71,
     "metadata": {},
     "output_type": "execute_result"
    }
   ],
   "source": [
    "Repository_description=[]\n",
    "for k in desc:\n",
    "    Repository_description.append(k.text)\n",
    "Repository_description"
   ]
  },
  {
   "cell_type": "code",
   "execution_count": 72,
   "id": "a5964c53",
   "metadata": {},
   "outputs": [
    {
     "data": {
      "text/plain": [
       "[\"程序员在家做饭方法指南。Programmer's guide about how to cook at home (Chinese).\",\n",
       " 'How to systematically secure anything: a repository about security engineering',\n",
       " 'Lecture video links for preparation of Placements',\n",
       " 'Game Preservation Project',\n",
       " '对开发人员有用的定律、理论、原则和模式。(Laws, Theories, Principles and Patterns that developers will find useful.)',\n",
       " 'NA',\n",
       " 'Resources , Notes , Videos of Operating System',\n",
       " 'Build your own (insert technology here)',\n",
       " 'Essential UI blocks for building mobile web apps.',\n",
       " 'GitHub中文排行榜，各语言分离设置「软件 / 资料」榜单，精准定位中文好项目。各取所需，互不干扰，高效学习。',\n",
       " 'Apache Superset is a Data Visualization and Data Exploration Platform',\n",
       " 'An Industrial Grade Federated Learning Framework',\n",
       " 'Yao A low code engine to create web services and dashboard.',\n",
       " 'Blazing fast, instant realtime GraphQL APIs on your DB with fine grained access control, also trigger webhooks on database events.',\n",
       " 'A terminal workspace with batteries included',\n",
       " 'An open-source C++ library developed and used at Facebook.',\n",
       " 'NA',\n",
       " 'Your self-hosted, globally interconnected microblogging community',\n",
       " 'Build your personal knowledge base with Trilium Notes',\n",
       " 'A multi core friendly rigid body physics and collision detection library suitable for games and VR applications.',\n",
       " \"A stealth AirTag clone that bypasses all of Apple's tracking protection features\",\n",
       " 'Scalable datastore for metrics, events, and real-time analytics',\n",
       " '免杀姿势学习、记录、复现。',\n",
       " 'An updated version of the classic \"Basic Computer Games\" book, with well-written examples in a variety of common programming languages',\n",
       " '刷算法全靠套路，认准 labuladong 就够了！English version supported! Crack LeetCode, not only how, but also why.']"
      ]
     },
     "execution_count": 72,
     "metadata": {},
     "output_type": "execute_result"
    }
   ],
   "source": [
    "Repository_desc=Repository_description\n",
    "Repository_desc.insert(15,\"NA\")\n",
    "Repository_desc1=Repository_desc\n",
    "Repository_desc1.insert(5,\"NA\")\n",
    "Repository_desc1"
   ]
  },
  {
   "cell_type": "code",
   "execution_count": 47,
   "id": "cc1e145a",
   "metadata": {},
   "outputs": [
    {
     "data": {
      "text/plain": [
       "25"
      ]
     },
     "execution_count": 47,
     "metadata": {},
     "output_type": "execute_result"
    }
   ],
   "source": [
    "cont=driver.find_elements_by_xpath('//div[@class=\"f6 color-fg-muted mt-2\"]/a[2]')\n",
    "len(cont)"
   ]
  },
  {
   "cell_type": "code",
   "execution_count": 30,
   "id": "48dbe897",
   "metadata": {},
   "outputs": [
    {
     "data": {
      "text/plain": [
       "['1,897',\n",
       " '557',\n",
       " '169',\n",
       " '118',\n",
       " '880',\n",
       " '65',\n",
       " '36',\n",
       " '12,522',\n",
       " '1,786',\n",
       " '6,402',\n",
       " '8,640',\n",
       " '1,171',\n",
       " '33',\n",
       " '2,191',\n",
       " '164',\n",
       " '4,534',\n",
       " '27',\n",
       " '4,346',\n",
       " '886',\n",
       " '43',\n",
       " '42',\n",
       " '3,121',\n",
       " '54',\n",
       " '779',\n",
       " '20,241']"
      ]
     },
     "execution_count": 30,
     "metadata": {},
     "output_type": "execute_result"
    }
   ],
   "source": [
    "Contributors=[]\n",
    "for k in cont:\n",
    "    Contributors.append(k.text)\n",
    "Contributors"
   ]
  },
  {
   "cell_type": "code",
   "execution_count": 31,
   "id": "8a4446ff",
   "metadata": {},
   "outputs": [
    {
     "data": {
      "text/plain": [
       "17"
      ]
     },
     "execution_count": 31,
     "metadata": {},
     "output_type": "execute_result"
    }
   ],
   "source": [
    "lang=driver.find_elements_by_xpath('//span[@class=\"d-inline-block ml-0 mr-3\"]/span[2]')\n",
    "len(lang)"
   ]
  },
  {
   "cell_type": "code",
   "execution_count": 66,
   "id": "d23634a3",
   "metadata": {},
   "outputs": [
    {
     "data": {
      "text/plain": [
       "['Rust',\n",
       " 'TypeScript',\n",
       " 'Java',\n",
       " 'TypeScript',\n",
       " 'Python',\n",
       " 'Go',\n",
       " 'Haskell',\n",
       " 'Rust',\n",
       " 'C++',\n",
       " 'Ruby',\n",
       " 'JavaScript',\n",
       " 'C++',\n",
       " 'Swift',\n",
       " 'Go',\n",
       " 'C++',\n",
       " 'C#',\n",
       " 'Markdown']"
      ]
     },
     "execution_count": 66,
     "metadata": {},
     "output_type": "execute_result"
    }
   ],
   "source": [
    "Language=[]\n",
    "for k in lang:\n",
    "    Language.append(k.text)\n",
    "Language"
   ]
  },
  {
   "cell_type": "code",
   "execution_count": 67,
   "id": "1f95877d",
   "metadata": {
    "scrolled": true
   },
   "outputs": [
    {
     "data": {
      "text/plain": [
       "['NA',\n",
       " 'NA',\n",
       " 'NA',\n",
       " 'NA',\n",
       " 'NA',\n",
       " 'NA',\n",
       " 'NA',\n",
       " 'NA',\n",
       " 'Rust',\n",
       " 'TypeScript',\n",
       " 'Java',\n",
       " 'TypeScript',\n",
       " 'Python',\n",
       " 'Go',\n",
       " 'Haskell',\n",
       " 'Rust',\n",
       " 'C++',\n",
       " 'Ruby',\n",
       " 'JavaScript',\n",
       " 'C++',\n",
       " 'Swift',\n",
       " 'Go',\n",
       " 'C++',\n",
       " 'C#',\n",
       " 'Markdown']"
      ]
     },
     "execution_count": 67,
     "metadata": {},
     "output_type": "execute_result"
    }
   ],
   "source": [
    "Language1=Language\n",
    "for i in range(0,8,1):\n",
    "    Language1.insert(0,\"NA\")\n",
    "Language1"
   ]
  },
  {
   "cell_type": "code",
   "execution_count": 81,
   "id": "82b397cf",
   "metadata": {},
   "outputs": [
    {
     "data": {
      "text/html": [
       "<div>\n",
       "<style scoped>\n",
       "    .dataframe tbody tr th:only-of-type {\n",
       "        vertical-align: middle;\n",
       "    }\n",
       "\n",
       "    .dataframe tbody tr th {\n",
       "        vertical-align: top;\n",
       "    }\n",
       "\n",
       "    .dataframe thead th {\n",
       "        text-align: right;\n",
       "    }\n",
       "</style>\n",
       "<table border=\"1\" class=\"dataframe\">\n",
       "  <thead>\n",
       "    <tr style=\"text-align: right;\">\n",
       "      <th></th>\n",
       "      <th>Repository_title</th>\n",
       "      <th>Repository_description</th>\n",
       "      <th>Contributors_count</th>\n",
       "      <th>Language_Used</th>\n",
       "    </tr>\n",
       "  </thead>\n",
       "  <tbody>\n",
       "    <tr>\n",
       "      <th>0</th>\n",
       "      <td>Anduin2017 / HowToCook</td>\n",
       "      <td>程序员在家做饭方法指南。Programmer's guide about how to co...</td>\n",
       "      <td>1,897</td>\n",
       "      <td>NA</td>\n",
       "    </tr>\n",
       "    <tr>\n",
       "      <th>1</th>\n",
       "      <td>veeral-patel / how-to-secure-anything</td>\n",
       "      <td>How to systematically secure anything: a repos...</td>\n",
       "      <td>557</td>\n",
       "      <td>NA</td>\n",
       "    </tr>\n",
       "    <tr>\n",
       "      <th>2</th>\n",
       "      <td>riti2409 / Resources-for-preparation-Of-Placem...</td>\n",
       "      <td>Lecture video links for preparation of Placements</td>\n",
       "      <td>169</td>\n",
       "      <td>NA</td>\n",
       "    </tr>\n",
       "    <tr>\n",
       "      <th>3</th>\n",
       "      <td>skywind3000 / preserve-cd</td>\n",
       "      <td>Game Preservation Project</td>\n",
       "      <td>118</td>\n",
       "      <td>NA</td>\n",
       "    </tr>\n",
       "    <tr>\n",
       "      <th>4</th>\n",
       "      <td>nusr / hacker-laws-zh</td>\n",
       "      <td>对开发人员有用的定律、理论、原则和模式。(Laws, Theories, Principle...</td>\n",
       "      <td>880</td>\n",
       "      <td>NA</td>\n",
       "    </tr>\n",
       "    <tr>\n",
       "      <th>5</th>\n",
       "      <td>kaist-cp / cs431</td>\n",
       "      <td>NA</td>\n",
       "      <td>65</td>\n",
       "      <td>NA</td>\n",
       "    </tr>\n",
       "    <tr>\n",
       "      <th>6</th>\n",
       "      <td>riti2409 / Operating_System</td>\n",
       "      <td>Resources , Notes , Videos of Operating System</td>\n",
       "      <td>36</td>\n",
       "      <td>NA</td>\n",
       "    </tr>\n",
       "    <tr>\n",
       "      <th>7</th>\n",
       "      <td>danistefanovic / build-your-own-x</td>\n",
       "      <td>Build your own (insert technology here)</td>\n",
       "      <td>12,522</td>\n",
       "      <td>NA</td>\n",
       "    </tr>\n",
       "    <tr>\n",
       "      <th>8</th>\n",
       "      <td>ant-design / ant-design-mobile</td>\n",
       "      <td>Essential UI blocks for building mobile web apps.</td>\n",
       "      <td>1,786</td>\n",
       "      <td>Rust</td>\n",
       "    </tr>\n",
       "    <tr>\n",
       "      <th>9</th>\n",
       "      <td>GrowingGit / GitHub-Chinese-Top-Charts</td>\n",
       "      <td>GitHub中文排行榜，各语言分离设置「软件 / 资料」榜单，精准定位中文好项目。各取所需，...</td>\n",
       "      <td>6,402</td>\n",
       "      <td>TypeScript</td>\n",
       "    </tr>\n",
       "    <tr>\n",
       "      <th>10</th>\n",
       "      <td>apache / superset</td>\n",
       "      <td>Apache Superset is a Data Visualization and Da...</td>\n",
       "      <td>8,640</td>\n",
       "      <td>Java</td>\n",
       "    </tr>\n",
       "    <tr>\n",
       "      <th>11</th>\n",
       "      <td>FederatedAI / FATE</td>\n",
       "      <td>An Industrial Grade Federated Learning Framework</td>\n",
       "      <td>1,171</td>\n",
       "      <td>TypeScript</td>\n",
       "    </tr>\n",
       "    <tr>\n",
       "      <th>12</th>\n",
       "      <td>YaoApp / yao</td>\n",
       "      <td>Yao A low code engine to create web services a...</td>\n",
       "      <td>33</td>\n",
       "      <td>Python</td>\n",
       "    </tr>\n",
       "    <tr>\n",
       "      <th>13</th>\n",
       "      <td>hasura / graphql-engine</td>\n",
       "      <td>Blazing fast, instant realtime GraphQL APIs on...</td>\n",
       "      <td>2,191</td>\n",
       "      <td>Go</td>\n",
       "    </tr>\n",
       "    <tr>\n",
       "      <th>14</th>\n",
       "      <td>zellij-org / zellij</td>\n",
       "      <td>A terminal workspace with batteries included</td>\n",
       "      <td>164</td>\n",
       "      <td>Haskell</td>\n",
       "    </tr>\n",
       "    <tr>\n",
       "      <th>15</th>\n",
       "      <td>facebook / folly</td>\n",
       "      <td>An open-source C++ library developed and used ...</td>\n",
       "      <td>4,534</td>\n",
       "      <td>Rust</td>\n",
       "    </tr>\n",
       "    <tr>\n",
       "      <th>16</th>\n",
       "      <td>evilbuffer / malware-and-exploitdev-resources</td>\n",
       "      <td>NA</td>\n",
       "      <td>27</td>\n",
       "      <td>C++</td>\n",
       "    </tr>\n",
       "    <tr>\n",
       "      <th>17</th>\n",
       "      <td>mastodon / mastodon</td>\n",
       "      <td>Your self-hosted, globally interconnected micr...</td>\n",
       "      <td>4,346</td>\n",
       "      <td>Ruby</td>\n",
       "    </tr>\n",
       "    <tr>\n",
       "      <th>18</th>\n",
       "      <td>zadam / trilium</td>\n",
       "      <td>Build your personal knowledge base with Triliu...</td>\n",
       "      <td>886</td>\n",
       "      <td>JavaScript</td>\n",
       "    </tr>\n",
       "    <tr>\n",
       "      <th>19</th>\n",
       "      <td>jrouwe / JoltPhysics</td>\n",
       "      <td>A multi core friendly rigid body physics and c...</td>\n",
       "      <td>43</td>\n",
       "      <td>C++</td>\n",
       "    </tr>\n",
       "    <tr>\n",
       "      <th>20</th>\n",
       "      <td>positive-security / find-you</td>\n",
       "      <td>A stealth AirTag clone that bypasses all of Ap...</td>\n",
       "      <td>42</td>\n",
       "      <td>Swift</td>\n",
       "    </tr>\n",
       "    <tr>\n",
       "      <th>21</th>\n",
       "      <td>influxdata / influxdb</td>\n",
       "      <td>Scalable datastore for metrics, events, and re...</td>\n",
       "      <td>3,121</td>\n",
       "      <td>Go</td>\n",
       "    </tr>\n",
       "    <tr>\n",
       "      <th>22</th>\n",
       "      <td>midisec / BypassAnti-Virus</td>\n",
       "      <td>免杀姿势学习、记录、复现。</td>\n",
       "      <td>54</td>\n",
       "      <td>C++</td>\n",
       "    </tr>\n",
       "    <tr>\n",
       "      <th>23</th>\n",
       "      <td>coding-horror / basic-computer-games</td>\n",
       "      <td>An updated version of the classic \"Basic Compu...</td>\n",
       "      <td>779</td>\n",
       "      <td>C#</td>\n",
       "    </tr>\n",
       "    <tr>\n",
       "      <th>24</th>\n",
       "      <td>labuladong / fucking-algorithm</td>\n",
       "      <td>刷算法全靠套路，认准 labuladong 就够了！English version supp...</td>\n",
       "      <td>20,241</td>\n",
       "      <td>Markdown</td>\n",
       "    </tr>\n",
       "  </tbody>\n",
       "</table>\n",
       "</div>"
      ],
      "text/plain": [
       "                                     Repository_title  \\\n",
       "0                              Anduin2017 / HowToCook   \n",
       "1               veeral-patel / how-to-secure-anything   \n",
       "2   riti2409 / Resources-for-preparation-Of-Placem...   \n",
       "3                           skywind3000 / preserve-cd   \n",
       "4                               nusr / hacker-laws-zh   \n",
       "5                                    kaist-cp / cs431   \n",
       "6                         riti2409 / Operating_System   \n",
       "7                   danistefanovic / build-your-own-x   \n",
       "8                      ant-design / ant-design-mobile   \n",
       "9              GrowingGit / GitHub-Chinese-Top-Charts   \n",
       "10                                  apache / superset   \n",
       "11                                 FederatedAI / FATE   \n",
       "12                                       YaoApp / yao   \n",
       "13                            hasura / graphql-engine   \n",
       "14                                zellij-org / zellij   \n",
       "15                                   facebook / folly   \n",
       "16      evilbuffer / malware-and-exploitdev-resources   \n",
       "17                                mastodon / mastodon   \n",
       "18                                    zadam / trilium   \n",
       "19                               jrouwe / JoltPhysics   \n",
       "20                       positive-security / find-you   \n",
       "21                              influxdata / influxdb   \n",
       "22                         midisec / BypassAnti-Virus   \n",
       "23               coding-horror / basic-computer-games   \n",
       "24                     labuladong / fucking-algorithm   \n",
       "\n",
       "                               Repository_description Contributors_count  \\\n",
       "0   程序员在家做饭方法指南。Programmer's guide about how to co...              1,897   \n",
       "1   How to systematically secure anything: a repos...                557   \n",
       "2   Lecture video links for preparation of Placements                169   \n",
       "3                           Game Preservation Project                118   \n",
       "4   对开发人员有用的定律、理论、原则和模式。(Laws, Theories, Principle...                880   \n",
       "5                                                  NA                 65   \n",
       "6      Resources , Notes , Videos of Operating System                 36   \n",
       "7             Build your own (insert technology here)             12,522   \n",
       "8   Essential UI blocks for building mobile web apps.              1,786   \n",
       "9   GitHub中文排行榜，各语言分离设置「软件 / 资料」榜单，精准定位中文好项目。各取所需，...              6,402   \n",
       "10  Apache Superset is a Data Visualization and Da...              8,640   \n",
       "11   An Industrial Grade Federated Learning Framework              1,171   \n",
       "12  Yao A low code engine to create web services a...                 33   \n",
       "13  Blazing fast, instant realtime GraphQL APIs on...              2,191   \n",
       "14       A terminal workspace with batteries included                164   \n",
       "15  An open-source C++ library developed and used ...              4,534   \n",
       "16                                                 NA                 27   \n",
       "17  Your self-hosted, globally interconnected micr...              4,346   \n",
       "18  Build your personal knowledge base with Triliu...                886   \n",
       "19  A multi core friendly rigid body physics and c...                 43   \n",
       "20  A stealth AirTag clone that bypasses all of Ap...                 42   \n",
       "21  Scalable datastore for metrics, events, and re...              3,121   \n",
       "22                                      免杀姿势学习、记录、复现。                 54   \n",
       "23  An updated version of the classic \"Basic Compu...                779   \n",
       "24  刷算法全靠套路，认准 labuladong 就够了！English version supp...             20,241   \n",
       "\n",
       "   Language_Used  \n",
       "0             NA  \n",
       "1             NA  \n",
       "2             NA  \n",
       "3             NA  \n",
       "4             NA  \n",
       "5             NA  \n",
       "6             NA  \n",
       "7             NA  \n",
       "8           Rust  \n",
       "9     TypeScript  \n",
       "10          Java  \n",
       "11    TypeScript  \n",
       "12        Python  \n",
       "13            Go  \n",
       "14       Haskell  \n",
       "15          Rust  \n",
       "16           C++  \n",
       "17          Ruby  \n",
       "18    JavaScript  \n",
       "19           C++  \n",
       "20         Swift  \n",
       "21            Go  \n",
       "22           C++  \n",
       "23            C#  \n",
       "24      Markdown  "
      ]
     },
     "execution_count": 81,
     "metadata": {},
     "output_type": "execute_result"
    }
   ],
   "source": [
    "trending=pd.DataFrame()\n",
    "trending['Repository_title']= Repository_title\n",
    "trending['Repository_description']= Repository_desc1\n",
    "trending['Contributors_count']= Contributors\n",
    "trending['Language_Used']= Language1\n",
    "trending"
   ]
  },
  {
   "cell_type": "code",
   "execution_count": null,
   "id": "27e7d7b8",
   "metadata": {},
   "outputs": [],
   "source": []
  }
 ],
 "metadata": {
  "kernelspec": {
   "display_name": "Python 3",
   "language": "python",
   "name": "python3"
  },
  "language_info": {
   "codemirror_mode": {
    "name": "ipython",
    "version": 3
   },
   "file_extension": ".py",
   "mimetype": "text/x-python",
   "name": "python",
   "nbconvert_exporter": "python",
   "pygments_lexer": "ipython3",
   "version": "3.8.8"
  }
 },
 "nbformat": 4,
 "nbformat_minor": 5
}
